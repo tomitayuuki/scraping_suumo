{
 "cells": [
  {
   "cell_type": "code",
   "execution_count": 11,
   "id": "75870ebf",
   "metadata": {},
   "outputs": [],
   "source": [
    "import pandas as pd\n",
    "import numpy as np\n",
    "import matplotlib.pyplot as plt\n",
    "import seaborn as sns\n",
    "import copy\n",
    "import lightgbm as lgb\n",
    "from sklearn.model_selection import train_test_split\n",
    "from sklearn.metrics import r2_score\n",
    "from sklearn.metrics import mean_squared_error\n",
    "from sklearn.model_selection import KFold\n",
    "import optuna\n",
    "import japanize_matplotlib"
   ]
  },
  {
   "cell_type": "code",
   "execution_count": null,
   "id": "326c1b5e",
   "metadata": {},
   "outputs": [],
   "source": [
    "# 使用するデータ\n",
    "suumo = pd.read_csv('./data/csv/SuumoTokyoShaped20221026.csv')"
   ]
  },
  {
   "cell_type": "code",
   "execution_count": 7,
   "id": "5665d86c",
   "metadata": {},
   "outputs": [],
   "source": [
    "# 変数全部\n",
    "feature_name = [\n",
    "    'カテゴリ',\n",
    "    '建物名',  # いらない\n",
    "    '経度',  # いる？\n",
    "    '緯度',  # いる？\n",
    "    '都道府県',  # いらない\n",
    "    '市区町村',\n",
    "    '市区町村以下',  # いらない\n",
    "    '皇居からの距離',\n",
    "    '経度(区)',  # いらない\n",
    "    '緯度(区)',  # いらない\n",
    "    '路線',\n",
    "    '駅',\n",
    "    '経度(駅)',  # いらない\n",
    "    '緯度(駅)',  # いらない\n",
    "    '歩',\n",
    "    'バス',\n",
    "    '車',\n",
    "    '最寄駅からの距離',\n",
    "    '築年数',\n",
    "    '地上',\n",
    "    '地下',\n",
    "    '階数',\n",
    "    '階',\n",
    "    '賃料',\n",
    "    '管理費',  # いる？\n",
    "    '敷金',  # いる？\n",
    "    '礼金',  # いる？\n",
    "    '間取り',\n",
    "    '部屋数', \n",
    "    '間取り_S', \n",
    "    '間取り_L', \n",
    "    '間取り_D', \n",
    "    '間取り_K',\n",
    "    '専有面積',\n",
    "    'url',  # いらない\n",
    "]"
   ]
  },
  {
   "cell_type": "code",
   "execution_count": null,
   "id": "33efe05a",
   "metadata": {},
   "outputs": [],
   "source": [
    "# 変数（絶対使わないであろう変数を削除）\n",
    "feature_name = [\n",
    "    'カテゴリ',\n",
    "    '経度',  # いる？\n",
    "    '緯度',  # いる？\n",
    "    '市区町村',\n",
    "    '皇居からの距離',\n",
    "    '路線',\n",
    "    '駅',\n",
    "    '歩',\n",
    "    'バス',\n",
    "    '車',\n",
    "    '最寄駅からの距離',\n",
    "    '築年数',\n",
    "    '地上',\n",
    "    '地下',\n",
    "    '階数',\n",
    "    '階',\n",
    "    '賃料',\n",
    "    '管理費',  # いる？\n",
    "    '敷金',  # いる？\n",
    "    '礼金',  # いる？\n",
    "    '間取り',\n",
    "    '部屋数', \n",
    "    '間取り_S', \n",
    "    '間取り_L', \n",
    "    '間取り_D', \n",
    "    '間取り_K',\n",
    "    '専有面積',\n",
    "]"
   ]
  },
  {
   "cell_type": "code",
   "execution_count": null,
   "id": "e963c259",
   "metadata": {},
   "outputs": [],
   "source": [
    "# 変数（だいたい使うであろう皆さん）\n",
    "feature_name = [\n",
    "    'カテゴリ',\n",
    "    '市区町村',\n",
    "    '皇居からの距離',\n",
    "    '路線',\n",
    "    '駅',\n",
    "    '歩',\n",
    "    'バス',\n",
    "    '車',\n",
    "    '最寄駅からの距離',\n",
    "    '築年数',\n",
    "    '地上',\n",
    "    '地下',\n",
    "    '階数',\n",
    "    '階',\n",
    "    '賃料',\n",
    "    '間取り',\n",
    "    '部屋数', \n",
    "    '間取り_S', \n",
    "    '間取り_L', \n",
    "    '間取り_D', \n",
    "    '間取り_K',\n",
    "    '専有面積',\n",
    "]"
   ]
  },
  {
   "cell_type": "markdown",
   "id": "e7a2a8f7",
   "metadata": {},
   "source": [
    "# とりあえず何も考えずLightGBM"
   ]
  },
  {
   "cell_type": "markdown",
   "id": "cfeed8d1",
   "metadata": {},
   "source": [
    "結論："
   ]
  },
  {
   "cell_type": "code",
   "execution_count": null,
   "id": "824b2ef6",
   "metadata": {},
   "outputs": [],
   "source": [
    "# 必要ならデータ加工(未知データに対して実行できないものはやらない)\n",
    "# シャッフルしてtrainとtestに分ける\n",
    "# 調整が必要ならtrainをさらにtrainとvalidに分ける\n",
    "# 必要ならデータ加工\n",
    "# モデル構築\n",
    "# モデル学習\n",
    "# 学習を評価"
   ]
  },
  {
   "cell_type": "code",
   "execution_count": null,
   "id": "00abd30f",
   "metadata": {},
   "outputs": [],
   "source": [
    "# 準備フェイズ\n",
    "\n",
    "# 事前のデータ加工なし\n",
    "suumo_light = copy.copy(suumo.sample(frac=1,random_state=2))\n",
    "\n",
    "# 変数は(だいたい使うであろう皆さんを)全部そのまま使用\n",
    "features = [\n",
    "    'カテゴリ',\n",
    "    '市区町村',\n",
    "    '皇居からの距離',\n",
    "    '路線',\n",
    "    '駅',\n",
    "    '歩',\n",
    "    'バス',\n",
    "    '車',\n",
    "    '最寄駅からの距離',\n",
    "    '築年数',\n",
    "    '地上',\n",
    "    '地下',\n",
    "    '階数',\n",
    "    '階',\n",
    "    '間取り',\n",
    "    '部屋数', \n",
    "    '間取り_S', \n",
    "    '間取り_L', \n",
    "    '間取り_D', \n",
    "    '間取り_K',\n",
    "    '専有面積',\n",
    "]\n",
    "target_feature = '賃料'"
   ]
  },
  {
   "cell_type": "code",
   "execution_count": null,
   "id": "f5f3707f",
   "metadata": {},
   "outputs": [],
   "source": [
    "# Xとyを定義\n",
    "X = suumo_light[features]\n",
    "y = suumo_light[target_feature]\n",
    "\n",
    "\n",
    "# 学習用とテスト用に分割\n",
    "train_test = 0.1\n",
    "train_valid = 0.8\n",
    "\n",
    "X_train_before, X_test, y_train_before, y_test = train_test_split(X, y, train_size = train_test, random_state = 0)\n",
    "X_train, X_valid, y_train, y_valid = train_test_split(X_train_before, y_train_before, train_size = train_valid, random_state = 0)"
   ]
  },
  {
   "cell_type": "code",
   "execution_count": null,
   "id": "3526c00a",
   "metadata": {},
   "outputs": [],
   "source": [
    "# きれいに分かれているかチェックシステム\n",
    "\n",
    "i = 0\n",
    "max_ = suumo,iloc[:,i].max()\n",
    "min_ = suumo,iloc[:,i].min()\n",
    "\n",
    "fig = plt.figure()\n",
    "ax1 = fig.add_subplot(1,3,1)\n",
    "ax2 = fig.add_subplot(1,3,2)\n",
    "ax3 = fig.add_subplot(1,3,3)\n",
    "\n",
    "ax1.hist(X_train.iloc[:,i], bins=50)\n",
    "plt.title('train')\n",
    "ax2.hist(X_valid.iloc[:,i], bins=50)\n",
    "plt.title('valid')\n",
    "ax3.hist(X_test.iloc[:,i], bins=50)\n",
    "plt.title('test')\n",
    "\n",
    "plt.xlim(min_,max_)\n",
    "plt.show()"
   ]
  },
  {
   "cell_type": "code",
   "execution_count": null,
   "id": "96886162",
   "metadata": {},
   "outputs": [],
   "source": [
    "# きれいに分かれているかチェックシステム\n",
    "\n",
    "max_ = suumo,iloc[:,i].max()\n",
    "min_ = suumo,iloc[:,i].min()\n",
    "\n",
    "fig = plt.figure()\n",
    "ax1 = fig.add_subplot(1,3,1)\n",
    "ax2 = fig.add_subplot(1,3,2)\n",
    "ax3 = fig.add_subplot(1,3,3)\n",
    "\n",
    "ax1.hist(y_train, bins=50)\n",
    "plt.title('train')\n",
    "ax2.hist(y_valid, bins=50)\n",
    "plt.title('valid')\n",
    "ax3.hist(y_test, bins=50)\n",
    "plt.title('test')\n",
    "\n",
    "plt.xlim(min_,max_)\n",
    "plt.show()"
   ]
  },
  {
   "cell_type": "code",
   "execution_count": null,
   "id": "230e0402",
   "metadata": {},
   "outputs": [],
   "source": [
    "# モデルを構築、学習\n",
    "\n",
    "LGBM = lgb.LGBMRegressor(random_state = 0)\n",
    "\n",
    "verbose_eval = 1\n",
    "LGBM.fit(X_train,y_train,\n",
    "        eval_set=[(X_valid,y_valid)],\n",
    "        eval_metrics = 'mse',\n",
    "        callbacks = [lgb.early_stopping(stopping_rounds=10,verbose=True),\n",
    "                    lgb.log_evaluation(verbose_eval)])"
   ]
  },
  {
   "cell_type": "code",
   "execution_count": 10,
   "id": "eccfb483",
   "metadata": {},
   "outputs": [],
   "source": [
    "# それぞれの予測結果を収納\n",
    "y_train_pred = LGBM.predict(X_train)\n",
    "y_valid_pred = LGBM.predict(X_valis)\n",
    "y_test_pred = LGBM.predict(X_test)"
   ]
  },
  {
   "cell_type": "code",
   "execution_count": null,
   "id": "c5c330af",
   "metadata": {},
   "outputs": [],
   "source": [
    "# それぞれのr2スコアを算出\n",
    "print('train:',r2_score(y_train,y_train_pred))\n",
    "print('train:',r2_score(y_valid,y_valid_pred))\n",
    "print('train:',r2_score(y_test,y_test_pred))"
   ]
  },
  {
   "cell_type": "code",
   "execution_count": null,
   "id": "e2a7fb90",
   "metadata": {},
   "outputs": [],
   "source": [
    "# それぞれのMSEを算出\n",
    "print('train:',mean_squared_error(y_train,y_train_pred))\n",
    "print('train:',mean_squared_error(y_valid,y_valid_pred))\n",
    "print('train:',mean_squared_error(y_test,y_test_pred))"
   ]
  },
  {
   "cell_type": "code",
   "execution_count": null,
   "id": "a6da244a",
   "metadata": {},
   "outputs": [],
   "source": [
    "# それぞれの残差プロット\n",
    "fig = plt.figure()\n",
    "ax1 = fig.add_subplot(1,3,1)\n",
    "ax2 = fig.add_subplot(1,3,2)\n",
    "ax3 = fig.add_subplot(1,3,3)\n",
    "\n",
    "ax1.scatter(y_train_pred, (y_train_pred - y_train))\n",
    "ax1.title('train')\n",
    "ax2.scatter(y_train_pred, (y_train_pred - y_train))\n",
    "ax2.title('valid')\n",
    "ax3.scatter(y_train_pred, (y_train_pred - y_train))\n",
    "ax3.title('test')\n",
    "\n",
    "plt.show()"
   ]
  },
  {
   "cell_type": "code",
   "execution_count": null,
   "id": "fb5de833",
   "metadata": {},
   "outputs": [],
   "source": [
    "# 変数重要度\n",
    "pd.DataFrame(np.c_[features, LGBM.feature_importances_])"
   ]
  },
  {
   "cell_type": "code",
   "execution_count": null,
   "id": "69899f6c",
   "metadata": {},
   "outputs": [],
   "source": [
    "# optuna を使いたい場合はこちら\n",
    "\n",
    "kf = KFold(n_split=5)\n",
    "def objective(trial):\n",
    "    n_extimators = 1000\n",
    "    num_leaves = trial.suggest_int('num_leaves',2,64)\n",
    "    min_child_samples = trial.suggest_int('min_child_samples', 1,10)\n",
    "    learning_rate = trial.suggest_float('learning_rate',0.001,1.0)\n",
    "    colsample_bytree = trial.suggest_float('colsample_bytree',0,1)\n",
    "    subsample = trial.suggest_float('subsample',0,1)\n",
    "    reg_alpha = trial.suggest_float('reg_alpha',0,1)\n",
    "    \n",
    "    LGBM = lgb.LightGBMRegressor(\n",
    "        n_estimators = n_estimators,\n",
    "        num_leaves = num_leaves,\n",
    "        min_child_samples = min_child_samples,\n",
    "        learning_rate = learning_rate,\n",
    "        colsamples_bytree = colsamples_bytree,\n",
    "        subsample = subsample,\n",
    "        reg_aplha = reg_alpha\n",
    "    )\n",
    "    \n",
    "    result = cross_validate(\n",
    "        estimator = LGBM,\n",
    "        X = X_trian_before,\n",
    "        y = y_train_before,\n",
    "        cv = kf,\n",
    "        scoring = 'neg_mean_squared_error'\n",
    "    )\n",
    "    \n",
    "    val_rmse = result['test_score'].mean()\n",
    "    \n",
    "    return val_rmse"
   ]
  },
  {
   "cell_type": "code",
   "execution_count": 12,
   "id": "721174de",
   "metadata": {
    "collapsed": true
   },
   "outputs": [
    {
     "name": "stderr",
     "output_type": "stream",
     "text": [
      "\u001b[32m[I 2022-10-31 17:34:10,075]\u001b[0m A new study created in memory with name: no-name-d5305729-4c3e-4037-ad1c-d1fb490d7729\u001b[0m\n"
     ]
    },
    {
     "ename": "NameError",
     "evalue": "name 'objective' is not defined",
     "output_type": "error",
     "traceback": [
      "\u001b[1;31m---------------------------------------------------------------------------\u001b[0m",
      "\u001b[1;31mNameError\u001b[0m                                 Traceback (most recent call last)",
      "Input \u001b[1;32mIn [12]\u001b[0m, in \u001b[0;36m<cell line: 3>\u001b[1;34m()\u001b[0m\n\u001b[0;32m      1\u001b[0m \u001b[38;5;66;03m# optuna のパラメータ調整\u001b[39;00m\n\u001b[0;32m      2\u001b[0m study \u001b[38;5;241m=\u001b[39m optuna\u001b[38;5;241m.\u001b[39mcreate_study(direction\u001b[38;5;241m=\u001b[39m\u001b[38;5;124m'\u001b[39m\u001b[38;5;124mmaximize\u001b[39m\u001b[38;5;124m'\u001b[39m)\n\u001b[1;32m----> 3\u001b[0m study\u001b[38;5;241m.\u001b[39moptimize(\u001b[43mobjective\u001b[49m, n_tirals\u001b[38;5;241m=\u001b[39m\u001b[38;5;241m100\u001b[39m)\n",
      "\u001b[1;31mNameError\u001b[0m: name 'objective' is not defined"
     ]
    }
   ],
   "source": [
    "# optuna を実行\n",
    "study = optuna.create_study(direction='maximize')\n",
    "study.optimize(objective, n_tirals=100)"
   ]
  },
  {
   "cell_type": "code",
   "execution_count": null,
   "id": "04938195",
   "metadata": {},
   "outputs": [],
   "source": []
  }
 ],
 "metadata": {
  "kernelspec": {
   "display_name": "Python 3 (ipykernel)",
   "language": "python",
   "name": "python3"
  },
  "language_info": {
   "codemirror_mode": {
    "name": "ipython",
    "version": 3
   },
   "file_extension": ".py",
   "mimetype": "text/x-python",
   "name": "python",
   "nbconvert_exporter": "python",
   "pygments_lexer": "ipython3",
   "version": "3.9.12"
  }
 },
 "nbformat": 4,
 "nbformat_minor": 5
}
