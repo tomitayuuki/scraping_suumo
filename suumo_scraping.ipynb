{
 "cells": [
  {
   "cell_type": "code",
   "execution_count": 116,
   "id": "c590fbdf",
   "metadata": {},
   "outputs": [],
   "source": [
    "import requests\n",
    "from bs4 import BeautifulSoup\n",
    "from retry import retry\n",
    "import urllib\n",
    "import time\n",
    "\n",
    "\n",
    "import pandas as pd\n",
    "import numpy as np\n",
    "import copy\n",
    "import re\n",
    "import matplotlib.pyplot as plt\n",
    "import seaborn as sns\n",
    "import japanize_matplotlib\n",
    "import math"
   ]
  },
  {
   "cell_type": "code",
   "execution_count": 464,
   "id": "8f18ee8e",
   "metadata": {
    "scrolled": false
   },
   "outputs": [],
   "source": [
    "# suumoの検索画面をスクレイピングする\n",
    "# 実行後にcsvで保存したので2回目は不要\n",
    "\n",
    "\n",
    "# # 複数ページの情報をまとめて取得\n",
    "# data_samples = []\n",
    "\n",
    "# # スクレイピングするページ数\n",
    "# max_page = 3\n",
    "# # SUUMOを東京都23区のみ指定して検索して出力した画面のurl(ページ数フォーマットが必要)\n",
    "# url = 'https://suumo.jp/jj/chintai/ichiran/FR301FC001/?ar=030&bs=040&ta=13&sc=13101&sc=13102&sc=13103&sc=13104&sc=13105&sc=13113&sc=13106&sc=13107&sc=13108&sc=13118&sc=13121&sc=13122&sc=13123&sc=13109&sc=13110&sc=13111&sc=13112&sc=13114&sc=13115&sc=13120&sc=13116&sc=13117&sc=13119&cb=0.0&ct=9999999&mb=0&mt=9999999&et=9999999&cn=9999999&shkr1=03&shkr2=03&shkr3=03&shkr4=03&sngz=&po1=25&pc=50&page={}'\n",
    "\n",
    "# # リクエストがうまく行かないパターンを回避するためのやり直し\n",
    "# @retry(tries=3, delay=10, backoff=2)\n",
    "# def load_page(url):\n",
    "#     html = requests.get(url)\n",
    "#     soup = BeautifulSoup(html.content, 'html.parser')\n",
    "#     return soup\n",
    "\n",
    "# # 処理時間を測りたい\n",
    "# start = time.time()\n",
    "# times = []\n",
    "\n",
    "# # ページごとの処理\n",
    "# for page in range(1,max_page+1):\n",
    "#     before = time.time()\n",
    "#     # ページ情報\n",
    "#     soup = load_page(url.format(page))\n",
    "#     # 物件情報リストを指定\n",
    "#     mother = soup.find_all(class_='cassetteitem')\n",
    "    \n",
    "#     # 物件ごとの処理\n",
    "#     for child in mother:\n",
    "\n",
    "#         # 建物情報\n",
    "#         data_home = []\n",
    "#         # カテゴリ\n",
    "#         data_home.append(child.find(class_='ui-pct ui-pct--util1').text)\n",
    "#         # 建物名\n",
    "#         data_home.append(child.find(class_='cassetteitem_content-title').text)\n",
    "#         # 住所\n",
    "#         data_home.append(child.find(class_='cassetteitem_detail-col1').text)\n",
    "#         # 最寄り駅のアクセス\n",
    "#         children = child.find(class_='cassetteitem_detail-col2')\n",
    "#         for id,grandchild in enumerate(children.find_all(class_='cassetteitem_detail-text')):\n",
    "#             data_home.append(grandchild.text)\n",
    "#         # 築年数と階数\n",
    "#         children = child.find(class_='cassetteitem_detail-col3')\n",
    "#         for grandchild in children.find_all('div'):\n",
    "#             data_home.append(grandchild.text)\n",
    "\n",
    "#         # 部屋情報\n",
    "#         rooms = child.find(class_='cassetteitem_other')\n",
    "#         for room in rooms.find_all(class_='js-cassette_link'):\n",
    "#             data_room = []\n",
    "            \n",
    "#             # 部屋情報が入っている表を探索\n",
    "#             for id_, grandchild in enumerate(room.find_all('td')):\n",
    "#                 # 階\n",
    "#                 if id_ == 2:\n",
    "#                     data_room.append(grandchild.text.strip())\n",
    "#                 # 家賃と管理費\n",
    "#                 elif id_ == 3:\n",
    "#                     data_room.append(grandchild.find(class_='cassetteitem_other-emphasis ui-text--bold').text)\n",
    "#                     data_room.append(grandchild.find(class_='cassetteitem_price cassetteitem_price--administration').text)\n",
    "#                 # 敷金と礼金\n",
    "#                 elif id_ == 4:\n",
    "#                     data_room.append(grandchild.find(class_='cassetteitem_price cassetteitem_price--deposit').text)\n",
    "#                     data_room.append(grandchild.find(class_='cassetteitem_price cassetteitem_price--gratuity').text)\n",
    "#                 # 間取りと面積\n",
    "#                 elif id_ == 5:\n",
    "#                     data_room.append(grandchild.find(class_='cassetteitem_madori').text)\n",
    "#                     data_room.append(grandchild.find(class_='cassetteitem_menseki').text)\n",
    "#                 # url\n",
    "#                 elif id_ == 8:\n",
    "#                     get_url = grandchild.find(class_='js-cassette_link_href cassetteitem_other-linktext').get('href')\n",
    "#                     abs_url = urllib.parse.urljoin(url,get_url)\n",
    "#                     data_room.append(abs_url)\n",
    "#             # 物件情報と部屋情報をくっつける\n",
    "#             data_sample = data_home + data_room\n",
    "#             data_samples.append(data_sample)\n",
    "    \n",
    "#     # 1アクセスごとに1秒休む\n",
    "#     time.sleep(1)\n",
    "    \n",
    "#     # 進捗確認\n",
    "#     # このページの作業時間を表示\n",
    "#     after = time.time()\n",
    "#     running_time = after - before\n",
    "#     times.append(running_time)\n",
    "#     print(f'{page}ページ目：{running_time}秒')\n",
    "#     # 取得した件数\n",
    "#     print(f'総取得件数：{len(data_samples)}')\n",
    "#     # 作業進捗\n",
    "#     complete_ratio = round(page/max_page*100,3)\n",
    "#     print(f'完了：{complete_ratio}%')\n",
    "#     # 作業の残り時間目安を表示\n",
    "#     running_mean = np.mean(times)\n",
    "#     running_required_time = running_mean * (max_page - page)\n",
    "#     hour = int(running_required_time/3600)\n",
    "#     minute = int((running_required_time%3600)/60)\n",
    "#     second = int(running_required_time%60)\n",
    "#     print(f'残り時間：{hour}時間{minute}分{second}秒\\n')\n",
    "\n",
    "# # 音を出す\n",
    "# def sound():\n",
    "#     !rundll32 user32.dll,MessageBeep\n",
    "    \n",
    "# # 処理時間を測りたい\n",
    "# finish = time.time()\n",
    "# running_all = finish - start\n",
    "# print('総経過時間：',running_all)\n",
    "# sound()\n"
   ]
  },
  {
   "cell_type": "code",
   "execution_count": 119,
   "id": "2fa49ba9",
   "metadata": {},
   "outputs": [],
   "source": [
    "# 2回目は不要\n",
    "\n",
    "# columns = ['カテゴリ','建物名','住所','最寄り駅1','最寄り駅2','最寄り駅3','築年数','階数','階','賃料','管理費','敷金','礼金','間取り','専有面積','url']\n",
    "# suumo_tokyo = pd.DataFrame(data_samples, columns=columns)"
   ]
  },
  {
   "cell_type": "code",
   "execution_count": 540,
   "id": "0dc16d70",
   "metadata": {},
   "outputs": [],
   "source": [
    "# suumo物件情報を保存\n",
    "# 2回目は不要\n",
    "\n",
    "# suumo_tokyo.to_csv(f'suumo{max_page}.csv', columns=columns, index=False)"
   ]
  },
  {
   "cell_type": "code",
   "execution_count": 79,
   "id": "14b8f9b6",
   "metadata": {
    "scrolled": true
   },
   "outputs": [],
   "source": [
    "# スクレイピング情報を呼び出す\n",
    "\n",
    "max_page = 2000\n",
    "suumo_tokyo = pd.read_csv(f'suumo{max_page}.csv')"
   ]
  },
  {
   "cell_type": "code",
   "execution_count": 80,
   "id": "4660645c",
   "metadata": {},
   "outputs": [],
   "source": [
    "# この文字列ありますか？関数\n",
    "def search_object(search,object):\n",
    "    return bool(re.search(search,object))\n",
    "\n",
    "# 文字+数字+文字 → 数字\n",
    "def objnumobj_num(x):\n",
    "    return re.sub(r'\\w+?([0-9]+)\\w+',r'\\1',x)\n",
    "\n",
    "# 最後の数字列を取り出す\n",
    "def lastnum(x):\n",
    "    return re.findall('[0-9]+',x)[-1]\n",
    "\n",
    "# (文字)数字を取り出す\n",
    "def get_objnum(x):\n",
    "    return re.search(r'([A-Z]?)([0-9]+)',x).group()\n",
    "\n",
    "# ???万円→???\n",
    "def drop_man(x):\n",
    "    return re.sub(r'([0-9]+)万円',r'\\1',x)\n",
    "\n",
    "# 数字+文字→数字\n",
    "def numobj_num(x):\n",
    "    return re.sub(r'([0-9]+)\\w+',r'\\1',x)\n",
    "\n",
    "# 英字以降を切り落とす\n",
    "def drop_behind_alfa(x):\n",
    "    return re.sub('[a-z]\\w+','',x)\n",
    "\n",
    "# 住所→緯度経度変換装置\n",
    "\n",
    "import requests\n",
    "import urllib\n",
    "\n",
    "def translate_address_coordinates(address):\n",
    "    makeUrl = \"https://msearch.gsi.go.jp/address-search/AddressSearch?q=\"\n",
    "    s_quote = urllib.parse.quote(address)\n",
    "    response = requests.get(makeUrl + s_quote)\n",
    "    return response.json()[0][\"geometry\"][\"coordinates\"]\n",
    "\n",
    "# 座標から距離を計算\n",
    "def distance(keido1,ido1,keido2,ido2):\n",
    "    # 出力は[m]\n",
    "    r=6378137\n",
    "    keido1 = math.radians(keido1)\n",
    "    ido1 = math.radians(ido1)\n",
    "    keido2 = math.radians(keido2)\n",
    "    ido2 = math.radians(ido2)\n",
    "    distance = r*np.arccos(round(np.sin(ido1)*np.sin(ido2)+np.cos(ido1)*np.cos(ido2)*np.cos(keido2-keido1),10))\n",
    "    return distance"
   ]
  },
  {
   "cell_type": "code",
   "execution_count": 81,
   "id": "3079f607",
   "metadata": {},
   "outputs": [],
   "source": [
    "# 築年数（正規表現）\n",
    "\n",
    "# 新築は築0年ということにする\n",
    "suumo_tokyo.loc[suumo_tokyo['築年数']=='新築','築年数'] = '築0年'\n",
    "\n",
    "# 築??年(以上)→??\n",
    "# 99階以上は99階に圧縮されます\n",
    "suumo_tokyo['築年数'] = suumo_tokyo['築年数'].map(lambda x: objnumobj_num(x))\n",
    "\n",
    "# 整数型に変更\n",
    "suumo_tokyo['築年数'] = suumo_tokyo['築年数'].astype(int)"
   ]
  },
  {
   "cell_type": "code",
   "execution_count": 82,
   "id": "044c64b5",
   "metadata": {},
   "outputs": [],
   "source": [
    "# 地下変数（正規表現）\n",
    "\n",
    "# 平屋は1階建ということにする\n",
    "suumo_tokyo.loc[suumo_tokyo['階数']=='平屋','階数'] = '1階建'\n",
    "\n",
    "# 地下何階までありますか？関数\n",
    "def underground(x):\n",
    "    return search_object('地下',x)*objnumobj_num(x)+(1-search_object('地下',x))*'0'\n",
    "    \n",
    "# 地下がなければ０、あるなら何階まであるか\n",
    "suumo_tokyo['地下'] = suumo_tokyo['階数'].map(lambda x: underground(x))\n",
    "\n",
    "# int型に変換\n",
    "suumo_tokyo['地下'] = suumo_tokyo['地下'].astype('int')"
   ]
  },
  {
   "cell_type": "code",
   "execution_count": 83,
   "id": "4ad2acff",
   "metadata": {
    "scrolled": true
   },
   "outputs": [],
   "source": [
    "# 地上変数(正規表現)\n",
    "suumo_tokyo['階数']\n",
    "\n",
    "# 平屋は1階建ということにする\n",
    "suumo_tokyo.loc[suumo_tokyo['階数']=='平屋','階数'] = '1階建'\n",
    "\n",
    "# ??階建→??\n",
    "suumo_tokyo['地上'] = suumo_tokyo['階数'].map(lambda x: lastnum(x))\n",
    "\n",
    "# int型に変換\n",
    "suumo_tokyo['地上'] = suumo_tokyo['地上'].astype(int)"
   ]
  },
  {
   "cell_type": "code",
   "execution_count": 84,
   "id": "c36174bb",
   "metadata": {},
   "outputs": [],
   "source": [
    "# 階数変数は地下地上の合算にしておく\n",
    "suumo_tokyo['階数'] = suumo_tokyo['地上'] + suumo_tokyo['地下']"
   ]
  },
  {
   "cell_type": "code",
   "execution_count": 85,
   "id": "e8b4686b",
   "metadata": {
    "scrolled": true
   },
   "outputs": [],
   "source": [
    "# 階変数(正規表現)\n",
    "\n",
    "# - は1階ということにする\n",
    "suumo_tokyo.loc[suumo_tokyo['階']=='-','階'] = '1階'\n",
    "\n",
    "# 階の前処理 -があればその後ろ、なければ(文字)数字\n",
    "def floor(x):\n",
    "    return search_object('-',x)*lastnum(x)+(1-search_object('-',x))*get_objnum(x)\n",
    "# B? → -?,Bがなければそのまま\n",
    "def basement_floor(x):\n",
    "    return search_object('B',x)*('-'+re.search(r'[0-9]+',x).group())+(1-search_object('B',x))*(x)\n",
    "# M? → ?.5 Mがなければそのまま\n",
    "def middle_floor(x):\n",
    "    return search_object('M',x)*str((int(re.search(r'[0-9]+',x).group())-0.5))+(1-search_object('M',x))*(x)\n",
    "   \n",
    "# 上の処理を適用する\n",
    "suumo_tokyo['階'] = suumo_tokyo['階'].map(lambda x: floor(x)).map(lambda x: basement_floor(x)).map(lambda x: middle_floor(x))\n",
    "\n",
    "# float型に変換\n",
    "suumo_tokyo['階'] = suumo_tokyo['階'].astype(float)"
   ]
  },
  {
   "cell_type": "code",
   "execution_count": 86,
   "id": "df6eca8d",
   "metadata": {},
   "outputs": [],
   "source": [
    "# 賃料変数(正規表現)\n",
    "# 10000倍するかは諸説\n",
    "\n",
    "# 賃料から万円を除去\n",
    "suumo_tokyo['賃料'] = suumo_tokyo['賃料'].map(lambda x: drop_man(x))\n",
    "# float型に変換\n",
    "suumo_tokyo['賃料'] = suumo_tokyo['賃料'].astype(float)"
   ]
  },
  {
   "cell_type": "code",
   "execution_count": 87,
   "id": "5b48191d",
   "metadata": {},
   "outputs": [],
   "source": [
    "# 管理費（正規表現）\n",
    "suumo_tokyo['管理費']\n",
    "\n",
    "# 管理費の'-'は0ということにする\n",
    "suumo_tokyo.loc[suumo_tokyo['管理費']==\"-\",'管理費'] = suumo_tokyo.loc[suumo_tokyo['管理費']==\"-\",'管理費'].replace('-','0')\n",
    "\n",
    "# ????円→????\n",
    "suumo_tokyo['管理費'] = suumo_tokyo['管理費'].map(lambda x: numobj_num(x))\n",
    "# 整数型に変更\n",
    "suumo_tokyo['管理費'] = suumo_tokyo['管理費'].astype(int)"
   ]
  },
  {
   "cell_type": "code",
   "execution_count": 88,
   "id": "79222275",
   "metadata": {},
   "outputs": [],
   "source": [
    "# 敷金変数(正規表現)\n",
    "# 10000倍するかは諸説\n",
    "\n",
    "# '-'は0万円ってことにする\n",
    "suumo_tokyo.loc[suumo_tokyo['敷金']=='-','敷金'] = '0万円'\n",
    "\n",
    "# 敷金から万円を除去\n",
    "suumo_tokyo['敷金'] = suumo_tokyo['敷金'].map(lambda x: drop_man(x))\n",
    "# float型に変換\n",
    "suumo_tokyo['敷金'] = suumo_tokyo['敷金'].astype(float)"
   ]
  },
  {
   "cell_type": "code",
   "execution_count": 89,
   "id": "ab59be56",
   "metadata": {},
   "outputs": [],
   "source": [
    "# 礼金変数(正規表現)\n",
    "# 10000倍するかは諸説\n",
    "\n",
    "# '-'は0万円ってことにする\n",
    "suumo_tokyo.loc[suumo_tokyo['礼金']=='-','礼金'] = '0万円'\n",
    "\n",
    "# 礼金から万円を除去\n",
    "suumo_tokyo['礼金'] = suumo_tokyo['礼金'].map(lambda x: drop_man(x))\n",
    "# float型に変換\n",
    "suumo_tokyo['礼金'] = suumo_tokyo['礼金'].astype(float)"
   ]
  },
  {
   "cell_type": "code",
   "execution_count": 90,
   "id": "f4714247",
   "metadata": {},
   "outputs": [],
   "source": [
    "# 間取り変換案\n",
    "# そのまま\n",
    "# 部屋数、onehot(S,L,D,K)に変換"
   ]
  },
  {
   "cell_type": "code",
   "execution_count": 91,
   "id": "9199d4c7",
   "metadata": {
    "scrolled": true
   },
   "outputs": [],
   "source": [
    "# 間取り変数の変換（正規表現）\n",
    "\n",
    "# ワンルームは1部屋ってことにする（かなり諸説）\n",
    "condition = suumo_tokyo['間取り'] == 'ワンルーム'\n",
    "suumo_tokyo.loc[condition,'間取り'] = '1'\n",
    "\n",
    "# 数字部分を取り出して、部屋数変数にする\n",
    "suumo_tokyo['部屋数'] = suumo_tokyo['間取り'].map(lambda x: re.search('([0-9]+)(.*)',x).group(1)).astype(int)\n",
    "\n",
    "# S,L,D,K はあれば1でなければ0になる\n",
    "list_alpha = ['S','L','D','K']\n",
    "for alpha in list_alpha:\n",
    "    suumo_tokyo[f'間取り_{alpha}'] = 0\n",
    "    condition = suumo_tokyo['間取り'].map(lambda x: search_object(alpha,x))\n",
    "    suumo_tokyo.loc[condition,f'間取り_{alpha}'] = 1"
   ]
  },
  {
   "cell_type": "code",
   "execution_count": 92,
   "id": "60fac923",
   "metadata": {
    "scrolled": true
   },
   "outputs": [
    {
     "data": {
      "text/html": [
       "<div>\n",
       "<style scoped>\n",
       "    .dataframe tbody tr th:only-of-type {\n",
       "        vertical-align: middle;\n",
       "    }\n",
       "\n",
       "    .dataframe tbody tr th {\n",
       "        vertical-align: top;\n",
       "    }\n",
       "\n",
       "    .dataframe thead th {\n",
       "        text-align: right;\n",
       "    }\n",
       "</style>\n",
       "<table border=\"1\" class=\"dataframe\">\n",
       "  <thead>\n",
       "    <tr style=\"text-align: right;\">\n",
       "      <th></th>\n",
       "      <th>間取り</th>\n",
       "    </tr>\n",
       "  </thead>\n",
       "  <tbody>\n",
       "    <tr>\n",
       "      <th>0</th>\n",
       "      <td>42DK</td>\n",
       "    </tr>\n",
       "    <tr>\n",
       "      <th>1</th>\n",
       "      <td>3SLDK</td>\n",
       "    </tr>\n",
       "    <tr>\n",
       "      <th>2</th>\n",
       "      <td>3SLDK</td>\n",
       "    </tr>\n",
       "    <tr>\n",
       "      <th>3</th>\n",
       "      <td>2LDK</td>\n",
       "    </tr>\n",
       "    <tr>\n",
       "      <th>4</th>\n",
       "      <td>1LDK</td>\n",
       "    </tr>\n",
       "    <tr>\n",
       "      <th>...</th>\n",
       "      <td>...</td>\n",
       "    </tr>\n",
       "    <tr>\n",
       "      <th>222918</th>\n",
       "      <td>3K</td>\n",
       "    </tr>\n",
       "    <tr>\n",
       "      <th>222919</th>\n",
       "      <td>1DK</td>\n",
       "    </tr>\n",
       "    <tr>\n",
       "      <th>222920</th>\n",
       "      <td>1</td>\n",
       "    </tr>\n",
       "    <tr>\n",
       "      <th>222921</th>\n",
       "      <td>1DK</td>\n",
       "    </tr>\n",
       "    <tr>\n",
       "      <th>222922</th>\n",
       "      <td>1DK</td>\n",
       "    </tr>\n",
       "  </tbody>\n",
       "</table>\n",
       "<p>222923 rows × 1 columns</p>\n",
       "</div>"
      ],
      "text/plain": [
       "          間取り\n",
       "0        42DK\n",
       "1       3SLDK\n",
       "2       3SLDK\n",
       "3        2LDK\n",
       "4        1LDK\n",
       "...       ...\n",
       "222918     3K\n",
       "222919    1DK\n",
       "222920      1\n",
       "222921    1DK\n",
       "222922    1DK\n",
       "\n",
       "[222923 rows x 1 columns]"
      ]
     },
     "execution_count": 92,
     "metadata": {},
     "output_type": "execute_result"
    }
   ],
   "source": [
    "suumo_tokyo[['間取り',]]"
   ]
  },
  {
   "cell_type": "code",
   "execution_count": 93,
   "id": "e6f64ea7",
   "metadata": {},
   "outputs": [],
   "source": [
    "# 専有面積変数（正規表現）\n",
    "\n",
    "# ????m2 → ????\n",
    "suumo_tokyo['専有面積'] = suumo_tokyo['専有面積'].map(lambda x: drop_behind_alfa(x))\n",
    "# float型に変換\n",
    "suumo_tokyo['専有面積'] = suumo_tokyo['専有面積'].astype(float)"
   ]
  },
  {
   "cell_type": "code",
   "execution_count": 94,
   "id": "65a5d045",
   "metadata": {
    "scrolled": true
   },
   "outputs": [],
   "source": [
    "# 住所変数（正規表現）\n",
    "\n",
    "# ～都,～区,～ に分けたい\n",
    "# ついでに[都道府県][市区町村][以下]に対応したい\n",
    "\n",
    "x = suumo_tokyo.loc[0,'住所']\n",
    "\n",
    "# 住所を(都道府県)(市区町村)(市区町村以下)に分けて取り出す\n",
    "def split_address(x):\n",
    "    a,b,c = re.search('(...??[都道府県])(.+?[市区町村])(.+)',x).groups()\n",
    "    return a,b,c\n",
    "\n",
    "# それぞれを変数に入れる\n",
    "suumo_tokyo[['都道府県','市区町村','市区町村以下']] = suumo_tokyo.apply(lambda x:split_address(x.住所),axis=1,result_type='expand')"
   ]
  },
  {
   "cell_type": "code",
   "execution_count": 95,
   "id": "bca48678",
   "metadata": {},
   "outputs": [],
   "source": [
    "# 住所→緯度経度変換装置\n",
    "\n",
    "import requests\n",
    "import urllib\n",
    "\n",
    "def translate_address_coordinates(address):\n",
    "    makeUrl = \"https://msearch.gsi.go.jp/address-search/AddressSearch?q=\"\n",
    "    s_quote = urllib.parse.quote(address)\n",
    "    response = requests.get(makeUrl + s_quote)\n",
    "    return response.json()[0][\"geometry\"][\"coordinates\"]"
   ]
  },
  {
   "cell_type": "code",
   "execution_count": 96,
   "id": "c2c54305",
   "metadata": {},
   "outputs": [],
   "source": [
    "# 住所のuniqueから緯度経度を取得\n",
    "# csvに変換しておいたので2回目は不要　coordinates.csvを呼び出そう\n",
    "\n",
    "# all_addresses = {}\n",
    "# running_times = []\n",
    "# i = 0\n",
    "\n",
    "# for address in suumo_tokyo['住所'].unique():\n",
    "    \n",
    "#     start = time.time()\n",
    "\n",
    "#     coordinate = translate_address_coordinates(address)\n",
    "#     all_addresses[address] = coordinate\n",
    "#     time.sleep(1)\n",
    "    \n",
    "#     finish = time.time()\n",
    "    \n",
    "#     running_time = finish - start\n",
    "#     running_times.append(running_time)\n",
    "\n",
    "#     all_count = suumo_tokyo['住所'].unique().shape[0]\n",
    "#     print(f'{i}件目：{running_time}秒')\n",
    "#     # 作業進捗\n",
    "#     complete_ratio = round(i/all_count*100,3)\n",
    "#     print(f'完了：{complete_ratio}%')\n",
    "#     # 作業の残り時間目安を表示\n",
    "#     running_mean = np.mean(running_times)\n",
    "#     running_required_time = running_mean * (all_count - i)\n",
    "#     hour = int(running_required_time/3600)\n",
    "#     minute = int((running_required_time%3600)/60)\n",
    "#     second = int(running_required_time%60)\n",
    "#     print(f'残り時間：{hour}時間{minute}分{second}秒\\n')\n",
    "#     i += 1"
   ]
  },
  {
   "cell_type": "code",
   "execution_count": 97,
   "id": "acea81b5",
   "metadata": {},
   "outputs": [],
   "source": [
    "# 住所と緯度経度のDataFrame\n",
    "# これもcsvに保存済なので2回目は不要\n",
    "\n",
    "# coordinates = pd.DataFrame(all_addresses).T\n",
    "# coordinates.reset_index(inplace=True)\n",
    "# coordinates.rename(columns={\n",
    "#     'index':'住所',\n",
    "#     0:'経度',\n",
    "#     1:'緯度'\n",
    "# }, inplace=True)\n",
    "# coordinates.to_csv('coordinates.csv',index=False)"
   ]
  },
  {
   "cell_type": "code",
   "execution_count": 98,
   "id": "00765b0a",
   "metadata": {},
   "outputs": [],
   "source": [
    "# 元データとくっつける\n",
    "# 連打すると増殖するので注意\n",
    "coordinates = pd.read_csv('coordinates.csv')\n",
    "suumo_tokyo = pd.merge(suumo_tokyo, coordinates, on='住所', how='left')"
   ]
  },
  {
   "cell_type": "code",
   "execution_count": 99,
   "id": "96d963e8",
   "metadata": {
    "scrolled": false
   },
   "outputs": [],
   "source": [
    "# 緯度経度散布図\n",
    "# まさに東京23区\n",
    "\n",
    "# sns.relplot(data=suumo_tokyo, x='経度', y='緯度', hue='カテゴリ', size=0.01)\n",
    "# plt.show()"
   ]
  },
  {
   "cell_type": "code",
   "execution_count": 100,
   "id": "6cc48b0a",
   "metadata": {
    "scrolled": false
   },
   "outputs": [],
   "source": [
    "# せっかくなので23区も区役所から区名→住所→緯度経度変換したい\n",
    "# 23区の区役所住所を取得\n",
    "# csvに保存したので2回目は不要\n",
    "\n",
    "# url = 'https://www.homemate-research-public.com/bc09/13100/list/'\n",
    "# html = requests.get(url)\n",
    "# soup = BeautifulSoup(html.content, 'html.parser')"
   ]
  },
  {
   "cell_type": "code",
   "execution_count": 101,
   "id": "3790f252",
   "metadata": {},
   "outputs": [],
   "source": [
    "# csvに保存したので2回目は不要\n",
    "\n",
    "# 区名を取り出す\n",
    "# ku_names = soup.find_all(class_='fa_name')\n",
    "# names = []\n",
    "# for item in ku_names:\n",
    "#     name = item.text\n",
    "#     names.append(name)\n",
    "\n",
    "# # 住所を取り出す\n",
    "# place = soup.find_all(class_='fa_inner')\n",
    "\n",
    "# addresses = []\n",
    "# for item in place:\n",
    "#     address = item.find(class_='fa_address').find_all('span')[1].text\n",
    "#     address = re.search('(東京都.+[０-９])|(東京都.+[0-9])',address).group()\n",
    "#     addresses.append(address)"
   ]
  },
  {
   "cell_type": "code",
   "execution_count": 102,
   "id": "a5f396f1",
   "metadata": {
    "scrolled": true
   },
   "outputs": [],
   "source": [
    "# 区名と住所の対応表\n",
    "# csvに保存したので2回目は不要\n",
    "\n",
    "# ku_addresses = np.c_[names,addresses]\n",
    "# df_ku = pd.DataFrame(ku_addresses, columns=['区','住所'])\n",
    "# df_ku = df_ku[df_ku['区'].str.contains('区役所$')]\n",
    "# df_ku['区'] = df_ku['区'].map(lambda x: re.sub('(.+区)役所',r'\\1',x))\n",
    "# df_ku.to_csv('ku_addresses.csv', index=False)"
   ]
  },
  {
   "cell_type": "code",
   "execution_count": 103,
   "id": "18fa6fe3",
   "metadata": {
    "scrolled": true
   },
   "outputs": [],
   "source": [
    "# 区役所住所→区役所緯度経度\n",
    "# csvに保存したので2回目は不要\n",
    "\n",
    "# all_addresses = {}\n",
    "# running_times = []\n",
    "# i = 0\n",
    "\n",
    "# for address in df_ku['住所']:\n",
    "    \n",
    "#     start = time.time()\n",
    "\n",
    "#     coordinate = translate_address_coordinates(address)\n",
    "#     all_addresses[address] = coordinate\n",
    "#     time.sleep(1)\n",
    "    \n",
    "#     finish = time.time()\n",
    "    \n",
    "#     running_time = finish - start\n",
    "#     running_times.append(running_time)\n",
    "\n",
    "#     all_count = df_ku['住所'].shape[0]\n",
    "#     print(f'{i}件目：{running_time}秒')\n",
    "#     # 作業進捗\n",
    "#     complete_ratio = round(i/all_count*100,3)\n",
    "#     print(f'完了：{complete_ratio}%')\n",
    "#     # 作業の残り時間目安を表示\n",
    "#     running_mean = np.mean(running_times)\n",
    "#     running_required_time = running_mean * (all_count - i)\n",
    "#     hour = int(running_required_time/3600)\n",
    "#     minute = int((running_required_time%3600)/60)\n",
    "#     second = int(running_required_time%60)\n",
    "#     print(f'残り時間：{hour}時間{minute}分{second}秒\\n')\n",
    "#     i += 1"
   ]
  },
  {
   "cell_type": "code",
   "execution_count": 104,
   "id": "afa582c9",
   "metadata": {
    "scrolled": true
   },
   "outputs": [],
   "source": [
    "# 区役所の住所と緯度経度のDataFrame\n",
    "# csvに保存したので2回目は不要\n",
    "\n",
    "# coordinates = pd.DataFrame(all_addresses).T\n",
    "# coordinates.reset_index(inplace=True)\n",
    "# coordinates.rename(columns={\n",
    "#     'index':'住所',\n",
    "#     0:'経度',\n",
    "#     1:'緯度'\n",
    "# }, inplace=True)\n",
    "# coordinates.to_csv('ku_coordinates.csv',index=False)"
   ]
  },
  {
   "cell_type": "code",
   "execution_count": 105,
   "id": "05e88a97",
   "metadata": {},
   "outputs": [],
   "source": [
    "# 区役所の住所と緯度経度対応表\n",
    "# csvに保存したので2回目は不要\n",
    "\n",
    "# all_sta_add = pd.read_csv('ku_addresses.csv')\n",
    "# station_coordinates = pd.read_csv('ku_coordinates.csv')\n",
    "# station_coordinates = pd.merge(all_sta_add, station_coordinates, on='住所', how='left')\n",
    "# station_coordinates.to_csv('ku_coordinates.csv', index=False)"
   ]
  },
  {
   "cell_type": "code",
   "execution_count": 106,
   "id": "34667369",
   "metadata": {
    "scrolled": true
   },
   "outputs": [],
   "source": [
    "# 結合\n",
    "ku_coordinates = pd.read_csv('ku_coordinates.csv')\n",
    "# 名前が被らないように修正\n",
    "ku_coordinates.rename(columns={\n",
    "    '住所':'住所(区)',\n",
    "    '緯度':'緯度(区)',\n",
    "    '経度':'経度(区)'\n",
    "}, inplace=True)\n",
    "\n",
    "# 結合\n",
    "suumo_tokyo = pd.merge(suumo_tokyo, ku_coordinates, left_on='市区町村', right_on='区',how='left')"
   ]
  },
  {
   "cell_type": "code",
   "execution_count": 107,
   "id": "c03390e9",
   "metadata": {
    "scrolled": true
   },
   "outputs": [],
   "source": [
    "# 最寄り駅変数（正規表現）\n",
    "\n",
    "# 最寄り駅から路線と駅を取り出す\n",
    "suumo_tokyo[['路線','駅']] = suumo_tokyo.apply(lambda x:re.search('(.+)/(.+?)\\s(.+)',x.最寄り駅1).groups()[0:2],axis=1,result_type='expand')\n",
    "\n",
    "def how_to_station():\n",
    "    # 移動手段は3パターン\n",
    "    how_to_station = ['歩','バス','車']\n",
    "    for by in how_to_station:\n",
    "        # 移動手段変数を生成\n",
    "        suumo_tokyo[f'{by}'] = np.zeros(suumo_tokyo.shape[0])\n",
    "        # その移動手段があるなら移動手段変数に格納する\n",
    "        suumo_tokyo.loc[suumo_tokyo['最寄り駅1'].map(lambda x: search_object(f'{by}[0-9]+分',x)),f'{by}'] = suumo_tokyo.loc[suumo_tokyo['最寄り駅1'].map(lambda x: search_object(f'{by}[0-9]+分',x)),'最寄り駅1'].map(lambda x: re.search(f'{by}([0-9]+)分',x).group(1))\n",
    "        # 所要時間をint型に変換\n",
    "        suumo_tokyo[f'{by}'] = suumo_tokyo[f'{by}'].astype(int)\n",
    "\n",
    "# 移動手段ごとに所用時間変数を作る\n",
    "how_to_station()"
   ]
  },
  {
   "cell_type": "code",
   "execution_count": 108,
   "id": "31ec3cd9",
   "metadata": {},
   "outputs": [],
   "source": [
    "# せっかくなので駅→住所→緯度経度変換できるようにしたい\n",
    "# ここは駅に対応する住所を回収する場所\n",
    "# csvに保存したので2回目は不要\n",
    "\n",
    "# url = 'https://www.navitime.co.jp/category/0802001/13/?page={}'\n",
    "# max_page = 44\n",
    "# running_times = []\n",
    "# soup_tank = []\n",
    "\n",
    "# for page in range(1,max_page+1):\n",
    "    \n",
    "#     start = time.time()\n",
    "    \n",
    "#     load_url = url.format(page)\n",
    "#     html = requests.get(load_url)\n",
    "#     soup = BeautifulSoup(html.content, 'html.parser')\n",
    "#     soup_tank.append(soup)\n",
    "#     time.sleep(1)\n",
    "    \n",
    "#     finish = time.time()\n",
    "    \n",
    "#     running_time = finish - start\n",
    "#     running_times.append(running_time)\n",
    "\n",
    "#     all_count = max_page\n",
    "#     print(f'{page}件目：{running_time}秒')\n",
    "#     # 作業進捗\n",
    "#     complete_ratio = round(page/all_count*100,3)\n",
    "#     print(f'完了：{complete_ratio}%')\n",
    "#     # 作業の残り時間目安を表示\n",
    "#     running_mean = np.mean(running_times)\n",
    "#     running_required_time = running_mean * (all_count - page)\n",
    "#     hour = int(running_required_time/3600)\n",
    "#     minute = int((running_required_time%3600)/60)\n",
    "#     second = int(running_required_time%60)\n",
    "#     print(f'残り時間：{hour}時間{minute}分{second}秒\\n')"
   ]
  },
  {
   "cell_type": "code",
   "execution_count": 109,
   "id": "3fa875da",
   "metadata": {
    "scrolled": true
   },
   "outputs": [],
   "source": [
    "# 回収したhtmlデータから駅と住所の対応を回収する\n",
    "# csvに保存したので2回目は不要\n",
    "\n",
    "# all_sta_add = []\n",
    "\n",
    "# for page in range(max_page):\n",
    "#     stations = []\n",
    "#     for item in soup_tank[page].find_all(class_='spot-name-text'):\n",
    "#         stations.append(item.text)\n",
    "\n",
    "#     addresses = []\n",
    "#     for item in soup_tank[page].find_all(class_='spot-detail-value-text'):\n",
    "#         isaddress = re.match('東京都',item.text)\n",
    "#         if isaddress :\n",
    "#             addresses.append(item.text)\n",
    "\n",
    "#     sta_add = np.c_[stations, addresses]\n",
    "    \n",
    "#     if page == 0:\n",
    "#         all_sta_add = sta_add\n",
    "#     else:\n",
    "#         all_sta_add = np.r_[all_sta_add,sta_add]\n",
    "        \n",
    "# # データをcsvに保存\n",
    "# pd.DataFrame(all_sta_add,columns=['駅','住所']).to_csv('station_address.csv',index=False)"
   ]
  },
  {
   "cell_type": "code",
   "execution_count": 110,
   "id": "c3e7130a",
   "metadata": {},
   "outputs": [],
   "source": [
    "# 駅の住所→緯度経度の対応を回収したい\n",
    "# csvに保存済なので2回目は不要\n",
    "\n",
    "# all_addresses = {}\n",
    "# running_times = []\n",
    "# i = 0\n",
    "\n",
    "# for address in all_sta_add['住所']:\n",
    "    \n",
    "#     start = time.time()\n",
    "\n",
    "#     coordinate = translate_address_coordinates(address)\n",
    "#     all_addresses[address] = coordinate\n",
    "#     time.sleep(1)\n",
    "    \n",
    "#     finish = time.time()\n",
    "    \n",
    "#     running_time = finish - start\n",
    "#     running_times.append(running_time)\n",
    "\n",
    "#     all_count = all_sta_add['住所'].shape[0]\n",
    "#     print(f'{i}件目：{running_time}秒')\n",
    "#     # 作業進捗\n",
    "#     complete_ratio = round(i/all_count*100,3)\n",
    "#     print(f'完了：{complete_ratio}%')\n",
    "#     # 作業の残り時間目安を表示\n",
    "#     running_mean = np.mean(running_times)\n",
    "#     running_required_time = running_mean * (all_count - i)\n",
    "#     hour = int(running_required_time/3600)\n",
    "#     minute = int((running_required_time%3600)/60)\n",
    "#     second = int(running_required_time%60)\n",
    "#     print(f'残り時間：{hour}時間{minute}分{second}秒\\n')\n",
    "#     i += 1"
   ]
  },
  {
   "cell_type": "code",
   "execution_count": 111,
   "id": "ea380602",
   "metadata": {},
   "outputs": [],
   "source": [
    "# 駅の住所と緯度経度のDataFrame\n",
    "# csvに保存済なので2回目は不要\n",
    "\n",
    "# coordinates = pd.DataFrame(all_addresses).T\n",
    "# coordinates.reset_index(inplace=True)\n",
    "# coordinates.rename(columns={\n",
    "#     'index':'住所',\n",
    "#     0:'経度',\n",
    "#     1:'緯度'\n",
    "# }, inplace=True)\n",
    "# coordinates.to_csv('station_coordinates.csv',index=False)"
   ]
  },
  {
   "cell_type": "code",
   "execution_count": 112,
   "id": "a8381d2a",
   "metadata": {},
   "outputs": [],
   "source": [
    "# 駅の住所と緯度経度対応表\n",
    "# csvに保存したので2回目は不要\n",
    "\n",
    "# all_sta_add = pd.read_csv('station_address.csv')\n",
    "# station_coordinates = pd.read_csv('station_coordinates.csv')\n",
    "# station_coordinates = pd.merge(all_sta_add, station_coordinates, on='住所', how='left')\n",
    "# station_coordinates.to_csv('station_coordinates.csv', index=False)"
   ]
  },
  {
   "cell_type": "code",
   "execution_count": 113,
   "id": "b931714b",
   "metadata": {},
   "outputs": [],
   "source": [
    "# 適切に結合するための修正\n",
    "# 修正を保存したので2回目は不要\n",
    "\n",
    "# station_coordinates = pd.read_csv('station_coordinates.csv')\n",
    "\n",
    "# # ()つきを圧縮する\n",
    "# station_coordinates.loc[station_coordinates['駅'].map(lambda x: search_object('(.*?)(\\(.+?\\))(.*?)',x)),'駅'] = station_coordinates.loc[station_coordinates['駅'].map(lambda x: search_object('(.*?)(\\(.+?\\))(.*?)',x)),'駅'].map(lambda x: re.sub('(.*?)(\\(.+?\\))(.*?)',r'\\1\\3',x) )\n",
    "# # 〔〕|[]つきを圧縮する\n",
    "# station_coordinates.loc[station_coordinates['駅'].map(lambda x: search_object('(.*?)(〔|\\[)(.+)(〕|\\])(.*?)',x)),'駅'] = station_coordinates.loc[station_coordinates['駅'].map(lambda x: search_object('(.*?)(〔|\\[)(.+)(〕|\\])(.*?)',x)),'駅'].map(lambda x: re.sub('(.*?)(〔|\\[)(.+)(〕|\\])(.*?)',r'\\1\\5',x) )\n",
    "# # ヶはケに変える\n",
    "# station_coordinates.loc[station_coordinates['駅'].map(lambda x: search_object('ヶ',x)),'駅'] = station_coordinates.loc[station_coordinates['駅'].map(lambda x: search_object('ヶ',x)),'駅'].map(lambda x: re.sub('ヶ','ケ',x))\n",
    "\n",
    "# # 重複列を削除する（ほぼ同じ住所になると信じることにする）\n",
    "# station_coordinates = station_coordinates[~station_coordinates['駅'].duplicated()]\n",
    "# # # 加工した状態で保存\n",
    "# station_coordinates.to_csv('station_coordinates.csv' ,index=False)"
   ]
  },
  {
   "cell_type": "code",
   "execution_count": 114,
   "id": "c5516b63",
   "metadata": {},
   "outputs": [],
   "source": [
    "# 結合\n",
    "station_coordinates = pd.read_csv('station_coordinates.csv')\n",
    "# 名前が被らないように修正\n",
    "station_coordinates.rename(columns={\n",
    "    '住所':'住所(駅)',\n",
    "    '緯度':'緯度(駅)',\n",
    "    '経度':'経度(駅)'\n",
    "}, inplace=True)\n",
    "# 〇〇駅に名称を変換\n",
    "station_coordinates['駅'] = station_coordinates['駅'].map(lambda x: x+'駅')\n",
    "\n",
    "# ヶはケに変える\n",
    "suumo_tokyo.loc[suumo_tokyo['駅'].map(lambda x: search_object('ヶ',x)),'駅'] = suumo_tokyo.loc[suumo_tokyo['駅'].map(lambda x: search_object('ヶ',x)),'駅'].map(lambda x: re.sub('ヶ','ケ',x))\n",
    "# 結合\n",
    "suumo_tokyo = pd.merge(suumo_tokyo, station_coordinates, on='駅', how='left')"
   ]
  },
  {
   "cell_type": "code",
   "execution_count": 117,
   "id": "19b88c5a",
   "metadata": {
    "scrolled": true
   },
   "outputs": [],
   "source": [
    "# 最寄駅からの距離変数を生成\n",
    "\n",
    "# 最寄駅からの距離[m]\n",
    "suumo_tokyo['最寄駅からの距離'] = 0\n",
    "condition = ~suumo_tokyo['経度(駅)'].isnull()\n",
    "suumo_tokyo.loc[condition,'最寄駅からの距離'] = suumo_tokyo[condition].apply(lambda x: distance(x['経度'], x['緯度'], x['経度(駅)'], x['緯度(駅)']), axis=1)"
   ]
  },
  {
   "cell_type": "code",
   "execution_count": 118,
   "id": "fb80de85",
   "metadata": {
    "scrolled": true
   },
   "outputs": [],
   "source": [
    "# 皇居からの距離変数を生成\n",
    "\n",
    "# 皇居の座標を獲得\n",
    "koukyo = '東京都千代田区千代田1'\n",
    "keido_k, ido_k = translate_address_coordinates(koukyo)\n",
    "\n",
    "# 皇居(都心？)からの距離[m]\n",
    "suumo_tokyo['皇居からの距離'] = 0\n",
    "suumo_tokyo['皇居からの距離'] = suumo_tokyo.apply(lambda x: distance(x['経度'], x['緯度'], keido_k, ido_k), axis=1)"
   ]
  },
  {
   "cell_type": "code",
   "execution_count": 120,
   "id": "65055668",
   "metadata": {},
   "outputs": [],
   "source": [
    "# 順番を見やすいように入れ替える\n",
    "columns = ['カテゴリ','建物名','経度','緯度','都道府県','市区町村','市区町村以下','皇居からの距離','経度(区)', '緯度(区)','路線','駅', '経度(駅)', '緯度(駅)','最寄駅からの距離','歩','バス','車','築年数','地上','地下','階数','階','賃料','管理費','敷金','礼金','間取り','部屋数','間取り_S','間取り_L','間取り_D','間取り_K','専有面積','url']\n",
    "suumo_tokyo_shaped = suumo_tokyo[columns]\n",
    "# 重複を削除する（重複10000くらいありましたね…）\n",
    "suumo_tokyo_shaped = suumo_tokyo_shaped[suumo_tokyo_shaped.duplicated() == False]\n",
    "# 保存\n",
    "suumo_tokyo_shaped.to_csv('SuumoTokyoShaped20221026.csv', index=False)"
   ]
  },
  {
   "cell_type": "code",
   "execution_count": 121,
   "id": "fc602d2a",
   "metadata": {
    "scrolled": true
   },
   "outputs": [],
   "source": [
    "suumo = pd.read_csv('SuumoTokyoShaped20221026.csv')"
   ]
  },
  {
   "cell_type": "code",
   "execution_count": 533,
   "id": "12dc5a35",
   "metadata": {
    "scrolled": true
   },
   "outputs": [
    {
     "data": {
      "text/plain": [
       "array(['谷塚駅', '八潮駅', '大泉風致地区', '和光市駅', '伊興赤山', '浦安駅', '大泉学園町４丁目'],\n",
       "      dtype=object)"
      ]
     },
     "execution_count": 533,
     "metadata": {},
     "output_type": "execute_result"
    }
   ],
   "source": [
    "# 駅の住所緯度経度を埋められなかった皆さん\n",
    "suumo.loc[suumo['緯度(駅)'].isnull(),'駅'].unique()\n",
    "# 谷塚：埼玉県\n",
    "# 八潮：埼玉県\n",
    "# 大泉風致地区：練馬区にある公園\n",
    "# 和光市駅：埼玉県\n",
    "# 伊興赤山：足立区にあるバス停\n",
    "# 浦安駅：千葉県\n",
    "# 大泉学園町４丁目：練馬区の一角"
   ]
  },
  {
   "cell_type": "code",
   "execution_count": 14,
   "id": "dde9a3c6",
   "metadata": {
    "scrolled": false
   },
   "outputs": [
    {
     "name": "stdout",
     "output_type": "stream",
     "text": [
      "None\n",
      "None\n"
     ]
    }
   ],
   "source": [
    "import geocoder\n",
    "location = '東京都大田区南蒲田3'\n",
    "ret = geocoder.osm(location, timeout=5.0)\n",
    "print(ret.latlng)\n",
    "print(ret.address)"
   ]
  }
 ],
 "metadata": {
  "kernelspec": {
   "display_name": "Python 3 (ipykernel)",
   "language": "python",
   "name": "python3"
  },
  "language_info": {
   "codemirror_mode": {
    "name": "ipython",
    "version": 3
   },
   "file_extension": ".py",
   "mimetype": "text/x-python",
   "name": "python",
   "nbconvert_exporter": "python",
   "pygments_lexer": "ipython3",
   "version": "3.9.12"
  }
 },
 "nbformat": 4,
 "nbformat_minor": 5
}
