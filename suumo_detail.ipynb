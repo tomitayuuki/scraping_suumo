{
 "cells": [
  {
   "cell_type": "code",
   "execution_count": 4,
   "id": "f4ba3871",
   "metadata": {},
   "outputs": [],
   "source": [
    "import requests\n",
    "from bs4 import BeautifulSoup\n",
    "import urllib\n",
    "import time\n",
    "from retry import retry\n",
    "import pandas as pd\n",
    "import numpy as np\n",
    "from tqdm import tqdm"
   ]
  },
  {
   "cell_type": "code",
   "execution_count": 5,
   "id": "483221d2",
   "metadata": {},
   "outputs": [],
   "source": [
    "# 音を出す\n",
    "def sound():\n",
    "    !rundll32 user32.dll,MessageBeep"
   ]
  },
  {
   "cell_type": "code",
   "execution_count": 8,
   "id": "f08689ed",
   "metadata": {},
   "outputs": [
    {
     "name": "stderr",
     "output_type": "stream",
     "text": [
      "100%|██████████| 1/1 [04:19<00:00, 259.08s/it]"
     ]
    },
    {
     "name": "stdout",
     "output_type": "stream",
     "text": [
      "1ページ目：259.06044006347656秒\n",
      "総取得件数：168\n",
      "完了：100.0%\n",
      "残り時間：0時間0分0秒\n",
      "\n",
      "総経過時間： 259.0863547325134\n"
     ]
    },
    {
     "name": "stderr",
     "output_type": "stream",
     "text": [
      "\n"
     ]
    }
   ],
   "source": [
    "# 検索ページのurlから物件の詳細を拾ってきたい\n",
    "\n",
    "# 情報の器\n",
    "data_samples = []\n",
    "\n",
    "# 検索出力ページ（東京23区）\n",
    "base_url = 'https://suumo.jp/jj/chintai/ichiran/FR301FC001/?ar=030&bs=040&ta=13&sc=13101&sc=13102&sc=13103&sc=13104&sc=13105&sc=13113&sc=13106&sc=13107&sc=13108&sc=13118&sc=13121&sc=13122&sc=13123&sc=13109&sc=13110&sc=13111&sc=13112&sc=13114&sc=13115&sc=13120&sc=13116&sc=13117&sc=13119&cb=0.0&ct=9999999&mb=0&mt=9999999&et=9999999&cn=9999999&shkr1=03&shkr2=03&shkr3=03&shkr4=03&sngz=&po1=25&pc=50&page={}'\n",
    "\n",
    "# 拾うページ数\n",
    "max_page = 1\n",
    "\n",
    "# ページ読み込み関数（リトライ機能付き）\n",
    "@retry(tries=3, delay=10, backoff=2)\n",
    "def load_page(load_url):\n",
    "    html = requests.get(load_url)\n",
    "    soup = BeautifulSoup(html.content, 'html.parser')\n",
    "    return soup\n",
    "\n",
    "# 処理時間を測りたい\n",
    "start = time.time()\n",
    "times = []\n",
    "\n",
    "# ページごとの処理\n",
    "for page in tqdm(range(1,max_page+1)):\n",
    "    before = time.time()\n",
    "\n",
    "    # ページ遷移\n",
    "    load_url = base_url.format(page)\n",
    "    # 検索ページ情報\n",
    "    soup = load_page(load_url)\n",
    "\n",
    "    # 検索ページから物件詳細の絶対urlを獲得\n",
    "    for j, element in enumerate(soup.find_all(class_='js-cassette_link_href cassetteitem_other-linktext')):\n",
    "        get_url = element.get('href')\n",
    "        abs_url = urllib.parse.urljoin(load_url,get_url)\n",
    "        soup_room = load_page(abs_url)\n",
    "\n",
    "        # 部屋情報の器\n",
    "        data_room = []\n",
    "\n",
    "        # 物件名\n",
    "        name = soup_room.find(class_='section_h1-header-title').text\n",
    "        data_room.append(name)\n",
    "        # 費用に関する情報\n",
    "        colname = ['家賃','管理費・共益費','敷金','礼金','保証金','敷引・償却']\n",
    "        cost_info = soup_room.find_all(class_='property_view_note-list')\n",
    "        for mother in cost_info:\n",
    "            for child in mother.find_all('span'):\n",
    "                data_room.append(child.text)\n",
    "        # 基本情報\n",
    "        colname = ['住所','駅徒歩','間取り','面積','築年数','階','向き','建物種別']\n",
    "        basic_info = soup_room.find_all(class_='property_view_table-body')\n",
    "        for k, (name, info ) in enumerate(zip(colname,basic_info)):\n",
    "            if k == 1:\n",
    "                for child in info.find_all('div'):\n",
    "                    data_room.append(child.text)\n",
    "            else:\n",
    "                data_room.append(info.text)\n",
    "        # オプション情報\n",
    "        option = soup_room.find_all(class_='inline_list')\n",
    "        data_room.append(option[1].text)\n",
    "        # 概要情報\n",
    "        colname = ['間取り詳細','構造','階建','築年月','損保','駐車場','入居','取引態様','条件','取り扱い店舗物件コード','SUUMO物件コード','総戸数','情報更新日','次回更新日','仲介手数料','保証会社','ほか初期費用']\n",
    "        overview = soup_room.find(class_='data_table table_gaiyou')\n",
    "        children = overview.find_all('td')\n",
    "        for name, info in zip(colname,children):\n",
    "            data_room.append(info.text.strip())\n",
    "            \n",
    "        # url情報\n",
    "        data_room.append(abs_url)\n",
    "\n",
    "        # 器に部屋情報を入れる\n",
    "        data_samples.append(data_room)\n",
    "\n",
    "        # requestsしたら1秒休む\n",
    "        time.sleep(1)\n",
    "        \n",
    "    # 進捗確認\n",
    "    # このページの作業時間を表示\n",
    "    after = time.time()\n",
    "    running_time = after - before\n",
    "    times.append(running_time)\n",
    "    print(f'{page}ページ目：{running_time}秒')\n",
    "    # 取得した件数\n",
    "    print(f'総取得件数：{len(data_samples)}')\n",
    "    # 作業進捗\n",
    "    complete_ratio = round(page/max_page*100,3)\n",
    "    print(f'完了：{complete_ratio}%')\n",
    "    # 作業の残り時間目安を表示\n",
    "    running_mean = np.mean(times)\n",
    "    running_required_time = running_mean * (max_page - page)\n",
    "    hour = int(running_required_time/3600)\n",
    "    minute = int((running_required_time%3600)/60)\n",
    "    second = int(running_required_time%60)\n",
    "    print(f'残り時間：{hour}時間{minute}分{second}秒\\n')\n",
    "\n",
    "# 処理時間を測りたい\n",
    "finish = time.time()\n",
    "running_all = finish - start\n",
    "print('総経過時間：',running_all)\n",
    "sound()"
   ]
  },
  {
   "cell_type": "code",
   "execution_count": 10,
   "id": "df0f25a2",
   "metadata": {},
   "outputs": [],
   "source": [
    "colname = ['物件名','家賃','管理費・共益費','敷金','礼金','保証金','敷引・償却','住所','駅徒歩1','駅徒歩2','駅徒歩3','間取り','面積','築年数','階','向き','建物種別','オプション','間取り詳細','構造','階建','築年月','損保','駐車場','入居','取引態様','条件','取り扱い店舗物件コード','SUUMO物件コード','総戸数','情報更新日','次回更新日','仲介手数料','保証会社','ほか初期費用','url']\n",
    "suumo = pd.DataFrame(data_samples, columns=colname)"
   ]
  },
  {
   "cell_type": "code",
   "execution_count": 18,
   "id": "745e265e",
   "metadata": {},
   "outputs": [
    {
     "data": {
      "text/plain": [
       "物件名                                                     セザール西日暮里\n",
       "家賃                                                        15.8万円\n",
       "管理費・共益費                                               管理費・共益費: -\n",
       "敷金                                                    敷金: 31.6万円\n",
       "礼金                                                    礼金: 15.8万円\n",
       "保証金                                                       保証金: -\n",
       "敷引・償却                                                   敷引・償却: -\n",
       "住所                                                    東京都荒川区東尾久２\n",
       "駅徒歩1                                              ＪＲ山手線/田端駅 歩16分\n",
       "駅徒歩2                                      日暮里・舎人ライナー/赤土小学校前駅 歩3分\n",
       "駅徒歩3                                            ＪＲ山手線/西日暮里駅 歩18分\n",
       "間取り                                                        2SLDK\n",
       "面積                                                        70.9m2\n",
       "築年数                                                         築21年\n",
       "階                                                             2階\n",
       "向き                                                             南\n",
       "建物種別                                                       マンション\n",
       "オプション          \\nバストイレ別、バルコニー、エアコン、ガスコンロ対応、クロゼット、フローリング、シャワー付...\n",
       "間取り詳細                                     和6.3 洋6 LDK14.6 納戸 4.5\n",
       "構造                                                          鉄筋コン\n",
       "階建                                                       2階/10階建\n",
       "築年月                                                      2002年8月\n",
       "損保                                                         2万円2年\n",
       "駐車場                                                            -\n",
       "入居                                                             即\n",
       "取引態様                                                          仲介\n",
       "条件                                                          楽器相談\n",
       "取り扱い店舗物件コード                                              a83742F\n",
       "SUUMO物件コード                                          100293219399\n",
       "総戸数                                                            -\n",
       "情報更新日                                                 2022/10/11\n",
       "次回更新日                                          次回更新日は情報更新日より８日以内\n",
       "仲介手数料                                                    定期借家 3年\n",
       "保証会社                                                      0.55ヶ月\n",
       "ほか初期費用                          保証会社利用必 初回：総賃料の100パーセント　月額：1000円\n",
       "url            https://suumo.jp/chintai/jnc_000066266340/?bc=...\n",
       "Name: 5, dtype: object"
      ]
     },
     "execution_count": 18,
     "metadata": {},
     "output_type": "execute_result"
    }
   ],
   "source": [
    "suumo.iloc[5]"
   ]
  },
  {
   "cell_type": "code",
   "execution_count": 17,
   "id": "9264170a",
   "metadata": {},
   "outputs": [
    {
     "data": {
      "text/plain": [
       "'https://suumo.jp/chintai/jnc_000066266340/?bc=100293219399'"
      ]
     },
     "execution_count": 17,
     "metadata": {},
     "output_type": "execute_result"
    }
   ],
   "source": [
    "suumo.loc[5,'url']"
   ]
  },
  {
   "cell_type": "code",
   "execution_count": null,
   "id": "3ef45f6d",
   "metadata": {},
   "outputs": [],
   "source": []
  }
 ],
 "metadata": {
  "kernelspec": {
   "display_name": "Python 3 (ipykernel)",
   "language": "python",
   "name": "python3"
  },
  "language_info": {
   "codemirror_mode": {
    "name": "ipython",
    "version": 3
   },
   "file_extension": ".py",
   "mimetype": "text/x-python",
   "name": "python",
   "nbconvert_exporter": "python",
   "pygments_lexer": "ipython3",
   "version": "3.9.12"
  }
 },
 "nbformat": 4,
 "nbformat_minor": 5
}
